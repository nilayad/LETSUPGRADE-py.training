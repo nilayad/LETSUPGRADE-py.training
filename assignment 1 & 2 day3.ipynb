{
 "cells": [
  {
   "cell_type": "markdown",
   "metadata": {},
   "source": [
    "# assignment 1"
   ]
  },
  {
   "cell_type": "code",
   "execution_count": null,
   "metadata": {},
   "outputs": [
    {
     "name": "stdout",
     "output_type": "stream",
     "text": [
      "current altitude6500\n",
      "go around again\n",
      "current altitude4500\n",
      "go down to 1000\n",
      "current altitude1500\n",
      "go down to 1000\n",
      "current altitude1000\n",
      "prepare to land\n",
      "current altitude850\n",
      "safe to land\n"
     ]
    }
   ],
   "source": [
    "while True:\n",
    "    i = input(\"current altitude\" )\n",
    "    if (i<1000) :\n",
    "            print(\"safe to land\")\n",
    "    elif (i == 1000):\n",
    "            print (\"prepare to land\")\n",
    "    elif (1000<i<5000):\n",
    "            print (\"go down to 1000\")\n",
    "    else:\n",
    "            print('go around again')    "
   ]
  },
  {
   "cell_type": "markdown",
   "metadata": {},
   "source": [
    "# assignment 2"
   ]
  },
  {
   "cell_type": "code",
   "execution_count": 1,
   "metadata": {},
   "outputs": [
    {
     "name": "stdout",
     "output_type": "stream",
     "text": [
      "range   200\n",
      "(0, ' is  neither prime nor composite')\n",
      "(1, ' is  neither prime nor composite')\n",
      "(2, 'is a prime no')\n",
      "(3, 'is a prime no')\n",
      "(5, 'is a prime no')\n",
      "(7, 'is a prime no')\n",
      "(11, 'is a prime no')\n",
      "(13, 'is a prime no')\n",
      "(17, 'is a prime no')\n",
      "(19, 'is a prime no')\n",
      "(23, 'is a prime no')\n",
      "(29, 'is a prime no')\n",
      "(31, 'is a prime no')\n",
      "(37, 'is a prime no')\n",
      "(41, 'is a prime no')\n",
      "(43, 'is a prime no')\n",
      "(47, 'is a prime no')\n",
      "(53, 'is a prime no')\n",
      "(59, 'is a prime no')\n",
      "(61, 'is a prime no')\n",
      "(67, 'is a prime no')\n",
      "(71, 'is a prime no')\n",
      "(73, 'is a prime no')\n",
      "(79, 'is a prime no')\n",
      "(83, 'is a prime no')\n",
      "(89, 'is a prime no')\n",
      "(97, 'is a prime no')\n",
      "(101, 'is a prime no')\n",
      "(103, 'is a prime no')\n",
      "(107, 'is a prime no')\n",
      "(109, 'is a prime no')\n",
      "(113, 'is a prime no')\n",
      "(127, 'is a prime no')\n",
      "(131, 'is a prime no')\n",
      "(137, 'is a prime no')\n",
      "(139, 'is a prime no')\n",
      "(149, 'is a prime no')\n",
      "(151, 'is a prime no')\n",
      "(157, 'is a prime no')\n",
      "(163, 'is a prime no')\n",
      "(167, 'is a prime no')\n",
      "(173, 'is a prime no')\n",
      "(179, 'is a prime no')\n",
      "(181, 'is a prime no')\n",
      "(191, 'is a prime no')\n",
      "(193, 'is a prime no')\n",
      "(197, 'is a prime no')\n",
      "(199, 'is a prime no')\n",
      "('above are the prime nos. upto to', 200)\n"
     ]
    }
   ],
   "source": [
    "r = int(input(\"range   \"))\n",
    "for i in range (0,r):\n",
    "    if (i==0) or (i==1):\n",
    "        print (i, \" is  neither prime nor composite\")\n",
    "    else :\n",
    "        p=0;\n",
    "        for c in range(2,((i//2)+1)):\n",
    "            if (i%c==0): \n",
    "                p=p+1\n",
    "        if(p<=0):\n",
    "            print(i, \"is a prime no\")\n",
    "print(\"above are the prime nos. upto to\", r)"
   ]
  },
  {
   "cell_type": "code",
   "execution_count": null,
   "metadata": {},
   "outputs": [],
   "source": []
  },
  {
   "cell_type": "code",
   "execution_count": null,
   "metadata": {},
   "outputs": [],
   "source": []
  }
 ],
 "metadata": {
  "kernelspec": {
   "display_name": "Python 2",
   "language": "python",
   "name": "python2"
  },
  "language_info": {
   "codemirror_mode": {
    "name": "ipython",
    "version": 2
   },
   "file_extension": ".py",
   "mimetype": "text/x-python",
   "name": "python",
   "nbconvert_exporter": "python",
   "pygments_lexer": "ipython2",
   "version": "2.7.16"
  }
 },
 "nbformat": 4,
 "nbformat_minor": 2
}
