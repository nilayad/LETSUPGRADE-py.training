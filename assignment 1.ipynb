{
 "cells": [
  {
   "cell_type": "markdown",
   "metadata": {},
   "source": [
    "# assignment"
   ]
  },
  {
   "cell_type": "markdown",
   "metadata": {},
   "source": [
    "code for finding armstrong nos. in the given range"
   ]
  },
  {
   "cell_type": "code",
   "execution_count": 5,
   "metadata": {},
   "outputs": [
    {
     "name": "stdout",
     "output_type": "stream",
     "text": [
      "lowwer no. of the range    0\n",
      "higher no. of the range    100000\n",
      "0\n",
      "1\n",
      "153\n",
      "370\n",
      "371\n",
      "407\n",
      "for higher nos. system is crashing\n"
     ]
    }
   ],
   "source": [
    "a=int(input(\"lowwer no. of the range    \"))\n",
    "b=int(input(\"higher no. of the range    \"))\n",
    "for i in range(a,b):\n",
    "    p=str(i)\n",
    "    a=[]\n",
    "    a.extend(p)\n",
    "    num=0\n",
    "    for j in range (0,len(a)):\n",
    "        tj= int(a[j])\n",
    "        pj = (tj)**(3)\n",
    "        num=num+pj\n",
    "        \n",
    "    if (i==num):\n",
    "        print (num)\n",
    "print(\"for higher nos. system is crashing\")"
   ]
  },
  {
   "cell_type": "code",
   "execution_count": null,
   "metadata": {},
   "outputs": [],
   "source": []
  }
 ],
 "metadata": {
  "kernelspec": {
   "display_name": "Python 2",
   "language": "python",
   "name": "python2"
  },
  "language_info": {
   "codemirror_mode": {
    "name": "ipython",
    "version": 2
   },
   "file_extension": ".py",
   "mimetype": "text/x-python",
   "name": "python",
   "nbconvert_exporter": "python",
   "pygments_lexer": "ipython2",
   "version": "2.7.16"
  }
 },
 "nbformat": 4,
 "nbformat_minor": 2
}
